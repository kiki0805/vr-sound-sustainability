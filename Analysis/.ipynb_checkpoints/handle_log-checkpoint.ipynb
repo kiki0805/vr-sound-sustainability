{
 "cells": [
  {
   "cell_type": "code",
   "execution_count": 1,
   "id": "89cc0f71-23f0-4203-8db6-3fdca1780503",
   "metadata": {},
   "outputs": [],
   "source": [
    "all_logs = []\n",
    "import os\n",
    "for f in os.listdir():\n",
    "    if '.log' in f:\n",
    "        all_logs.append(f)"
   ]
  },
  {
   "cell_type": "code",
   "execution_count": 2,
   "id": "d93534e8-1ea5-4499-ab58-299353e57a5b",
   "metadata": {},
   "outputs": [
    {
     "data": {
      "text/plain": [
       "['vr_sound_0_ajda.log',\n",
       " 'vr_sound_0_ao.log',\n",
       " 'vr_sound_0_azalea.log',\n",
       " 'vr_sound_0_bente.log',\n",
       " 'vr_sound_0_fran.log',\n",
       " 'vr_sound_0_hussein.log',\n",
       " 'vr_sound_0_leo.log',\n",
       " 'vr_sound_0_tao.log',\n",
       " 'vr_sound_0_zhang.log']"
      ]
     },
     "execution_count": 2,
     "metadata": {},
     "output_type": "execute_result"
    }
   ],
   "source": [
    "all_logs"
   ]
  },
  {
   "cell_type": "code",
   "execution_count": 57,
   "id": "8a4672a6-855d-44fe-a7e7-4c9ab97ba492",
   "metadata": {},
   "outputs": [],
   "source": [
    "import re\n",
    "from datetime import datetime\n",
    "\n",
    "def extract_using_time(line, source):\n",
    "    if '|' not in line:\n",
    "        return\n",
    "    if source not in line:\n",
    "        return\n",
    "    using_time = float(line.split('|')[-1].strip().split(' ')[3])\n",
    "    if using_time == 0:\n",
    "        return\n",
    "    return using_time\n",
    "\n",
    "def extract_fire_speed_with_time(line):\n",
    "    if 'Set gasfire speed' not in line:\n",
    "        return\n",
    "    time_str = re.search('\\[.+\\]', line).group(0)[1:-1]\n",
    "    dt = datetime.strptime(time_str, '%m/%d %H:%M:%S.%f')\n",
    "    speed = line.split(' ')[-1]\n",
    "    return dt, float(speed)\n",
    "\n",
    "def average_stove_speed(stove_dt_speed):\n",
    "    duration = stove_dt_speed[-1][0] - stove_dt_speed[0][0]\n",
    "    speed_sum = 0\n",
    "    for i in range(1, len(stove_dt_speed)):\n",
    "        dt1, speed1 = stove_dt_speed[i-1]\n",
    "        dt2, speed2 = stove_dt_speed[i]\n",
    "        speed_sum += (dt2 - dt1).total_seconds() * (speed1 + speed2) / 2\n",
    "    return speed_sum / duration.total_seconds()"
   ]
  },
  {
   "cell_type": "code",
   "execution_count": 60,
   "id": "e57a2853-e173-46cb-8490-04209ecb7eae",
   "metadata": {},
   "outputs": [],
   "source": [
    "def analyze_log(log):\n",
    "    with open(log, 'r') as f:\n",
    "        lines = f.readlines()\n",
    "    fridge_using_times = []\n",
    "    stove_dt_speed = []\n",
    "    for line in lines:\n",
    "        fridge_using_time = extract_using_time(line, 'FridgeOpenTime')\n",
    "        if fridge_using_time is not None:\n",
    "            if fridge_using_times == [] or fridge_using_time < fridge_using_times[-1]:\n",
    "                fridge_using_times.append(fridge_using_time)\n",
    "            if fridge_using_time > fridge_using_times[-1]:\n",
    "                fridge_using_times[-1] = fridge_using_time\n",
    "        dt_speed = extract_fire_speed_with_time(line)\n",
    "        if dt_speed is not None:\n",
    "            stove_dt_speed.append(dt_speed)\n",
    "        \n",
    "    fridge_open_count = len(fridge_using_times)\n",
    "    avg_speed = average_stove_speed(stove_dt_speed)\n",
    "    print(avg_speed)\n",
    "    print(fridge_using_times)"
   ]
  },
  {
   "cell_type": "code",
   "execution_count": 62,
   "id": "dfe96a65-c12f-41ea-9ad8-e72866442476",
   "metadata": {},
   "outputs": [
    {
     "name": "stdout",
     "output_type": "stream",
     "text": [
      "0.12020769222984465\n",
      "[5.013544, 187.1729]\n",
      "0.4055080456136236\n",
      "[5.011185, 121.9185, 194.7599]\n",
      "0.10477372504567031\n",
      "[348.1025, 1.001969, 3.507277, 353.6912, 1.002406]\n",
      "0.19205510042378748\n",
      "[34.64221, 18.82623]\n",
      "0.2421603918355137\n",
      "[258.3722]\n",
      "0.011973974741175867\n",
      "[386.961]\n",
      "0.5765080053145024\n",
      "[43.14701, 15.06323]\n",
      "0.4010126269159439\n",
      "[128.3119, 1.026665]\n",
      "0.5315166990136091\n",
      "[29.66957, 0.5015505]\n"
     ]
    }
   ],
   "source": [
    "for log in all_logs:\n",
    "    analyze_log(log)"
   ]
  },
  {
   "cell_type": "code",
   "execution_count": null,
   "id": "120f68ae-c42a-4e8e-8b28-278bb03458cc",
   "metadata": {},
   "outputs": [],
   "source": []
  },
  {
   "cell_type": "code",
   "execution_count": null,
   "id": "9c2465b1-7358-4e15-8ca8-b18ebbd25c04",
   "metadata": {},
   "outputs": [],
   "source": []
  }
 ],
 "metadata": {
  "kernelspec": {
   "display_name": "Python 3 (ipykernel)",
   "language": "python",
   "name": "python3"
  },
  "language_info": {
   "codemirror_mode": {
    "name": "ipython",
    "version": 3
   },
   "file_extension": ".py",
   "mimetype": "text/x-python",
   "name": "python",
   "nbconvert_exporter": "python",
   "pygments_lexer": "ipython3",
   "version": "3.10.5"
  }
 },
 "nbformat": 4,
 "nbformat_minor": 5
}
